{
 "cells": [
  {
   "cell_type": "markdown",
   "id": "e2533113",
   "metadata": {},
   "source": [
    "# PCA\n",
    "PCA = Principal Components Analysis，主成分分析，是一种降维的方法，并不用来分类/聚类/回归。假设了多个变量之间存在强的相关性，多重共线性，或者说变量反映的内容是有重复的。可以把高维(指特征数较多)转化为低维。转化后的数据是包含原始数据信息的，但是解释性比较差。且会损失一定数量的信息，但是对于计算成本来说，能把数据转化为低维是更好的。\n",
    "\n",
    "一般的处理过程是：原始数据通过PCA降维，得到新的数据，再用新数据去进行分类/聚类/回归等。从这个角度来看，PCA也属于一种数据预处理方法。"
   ]
  },
  {
   "cell_type": "markdown",
   "id": "137747fd",
   "metadata": {},
   "source": [
    "## 参数\n",
    "**n_components：int,float,None or str**\n",
    "\n",
    "=2 代表返回前2个主成分\n",
    "\n",
    "=0.98 代表返回满足主成分方差累计贡献率达到98%的主成分\n",
    "\n",
    "=None 返回所有主成分\n",
    "\n",
    "='mle' 自动选取主成分个数n使得满足所要求的方差百分比\n",
    "\n",
    "**copy:bool类型，True/False** 是否复制原数据\n",
    "\n",
    "=True时，fit_transform(X)能显示出降维后的数据\n",
    "\n",
    "=False时，fit(X).transform(X)才能显示\n",
    "\n",
    "**whiten:bool, True/False** \n",
    "\n",
    "白化，一种预处理过程，目的是降低输入数据的冗余性，白化处理后的输入数据有以下特点：\n",
    "\n",
    "(1)特征间相关性较低，(2)所有特征具有相同方差。PCA中的白化就是PCA之后的数据的标准化。\n",
    "\n",
    "**svd_solver:str, str{'auto','full','arpack','randomized'}** \n",
    "\n",
    "奇异值分解SVD的方法，默认auto，'randomized'适用于数据量大数据维度多，同时主成分数目比例较低的PCA降维\n",
    "\n",
    "## 类的属性\n",
    "components_:返回主成分分析矩阵\n",
    "\n",
    "explained_variance_:降维后的各主成分的方差值\n",
    "\n",
    "explained_variance_ratio:降维后各主成分的方差值占总方差值的比例(主成分方差贡献率)\n",
    "\n",
    "## 类的方法\n",
    "fit_transform() 将模型与X进行训练，并对X进行降维处理，返回的是降维后的数据"
   ]
  },
  {
   "cell_type": "code",
   "execution_count": 3,
   "id": "0f417add",
   "metadata": {},
   "outputs": [],
   "source": [
    "import numpy as np\n",
    "import pandas as pd\n",
    "data = pd.read_csv('/data/Iris.csv')\n",
    "X = data.iloc[:,1:-1]\n",
    "y = data.iloc[:,-1]\n",
    "y = y.map({'Iris-setosa':0,'Iris-versicolor':1,'Iris-virginica':2})"
   ]
  },
  {
   "cell_type": "code",
   "execution_count": 4,
   "id": "a296752e",
   "metadata": {},
   "outputs": [],
   "source": [
    "from sklearn.decomposition import PCA\n",
    "from sklearn import preprocessing\n",
    "X_std = preprocessing.scale(X)"
   ]
  },
  {
   "cell_type": "code",
   "execution_count": 5,
   "id": "0539aa5e",
   "metadata": {},
   "outputs": [
    {
     "name": "stdout",
     "output_type": "stream",
     "text": [
      "主成分系数矩阵是: [[ 0.52237162 -0.26335492  0.58125401  0.56561105]\n",
      " [ 0.37231836  0.92555649  0.02109478  0.06541577]]\n",
      "特征值: [2.93035378 0.92740362]\n",
      "方差解释率: [0.72770452 0.23030523]\n"
     ]
    }
   ],
   "source": [
    "pca = PCA(n_components=2, copy=True)\n",
    "pca.fit(X_std)\n",
    "\n",
    "print('主成分系数矩阵是:', pca.components_)\n",
    "print('特征值:', pca.explained_variance_)\n",
    "print('方差解释率:', pca.explained_variance_ratio_) # 即主成分方差贡献率"
   ]
  },
  {
   "cell_type": "code",
   "execution_count": 7,
   "id": "41c8a5e8",
   "metadata": {},
   "outputs": [
    {
     "name": "stdout",
     "output_type": "stream",
     "text": [
      "[[-2.26454173  0.5057039 ]\n",
      " [-2.0864255  -0.65540473]\n",
      " [-2.36795045 -0.31847731]\n",
      " [-2.30419716 -0.57536771]\n",
      " [-2.38877749  0.6747674 ]]\n"
     ]
    },
    {
     "data": {
      "text/plain": [
       "(150, 2)"
      ]
     },
     "execution_count": 7,
     "metadata": {},
     "output_type": "execute_result"
    }
   ],
   "source": [
    "X_PCA = pca.fit_transform(X_std)\n",
    "print(X_PCA[:5,:])\n",
    "X_PCA.shape"
   ]
  },
  {
   "cell_type": "code",
   "execution_count": 10,
   "id": "f142866e",
   "metadata": {},
   "outputs": [
    {
     "name": "stdout",
     "output_type": "stream",
     "text": [
      "PCA后分类准确率: 0.9333333333333333\n"
     ]
    }
   ],
   "source": [
    "from sklearn.linear_model import LogisticRegression\n",
    "LR = LogisticRegression()\n",
    "LR.fit(X_PCA, y)\n",
    "print('PCA后分类准确率:', LR.score(X_PCA, y))"
   ]
  }
 ],
 "metadata": {
  "kernelspec": {
   "display_name": "py3.10",
   "language": "python",
   "name": "py3.10"
  },
  "language_info": {
   "codemirror_mode": {
    "name": "ipython",
    "version": 3
   },
   "file_extension": ".py",
   "mimetype": "text/x-python",
   "name": "python",
   "nbconvert_exporter": "python",
   "pygments_lexer": "ipython3",
   "version": "3.10.10"
  },
  "nbTranslate": {
   "displayLangs": [
    "*"
   ],
   "hotkey": "alt-t",
   "langInMainMenu": true,
   "sourceLang": "en",
   "targetLang": "fr",
   "useGoogleTranslate": true
  }
 },
 "nbformat": 4,
 "nbformat_minor": 5
}
