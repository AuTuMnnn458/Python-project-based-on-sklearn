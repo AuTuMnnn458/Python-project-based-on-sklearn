{
 "cells": [
  {
   "cell_type": "markdown",
   "id": "dd376a38",
   "metadata": {},
   "source": [
    "# CUMCM2017 Problems B\n",
    "本文主要讨论2017年国赛问题B的一些建模和解决方法。\n",
    "\n",
    "**B题“拍照赚钱”的任务定价**\n",
    "\n",
    "“拍照赚钱”是移动互联网下的一种自助式服务模式。用户下载APP，注册成为APP的会员，然后从APP上领取需要拍照的任务（比如上超市去检查某种商品的上架情况），赚取APP对任务所标定的酬金。这种基于移动互联网的自助式劳务众包平台，为企业提供各种商业检查和信息搜集，相比传统的市场调查方式可以大大节省调查成本，而且有效地保证了调查数据真实性，缩短了调查的周期。因此APP成为该平台运行的核心，而APP中的任务定价又是其核心要素。如果定价不合理，有的任务就会无人问津，而导致商品检查的失败。\n",
    "\n",
    "附件一是一个已结束项目的任务数据，包含了每个任务的位置、定价和完成情况（“1”表示完成，“0”表示未完成）；附件二是会员信息数据，包含了会员的位置、信誉值、参考其信誉给出的任务开始预订时间和预订限额，原则上会员信誉越高，越优先开始挑选任务，其配额也就越大（任务分配时实际上是根据预订限额所占比例进行配发）；附件三是一个新的检查项目任务数据，只有任务的位置信息。请完成下面的问题：\n",
    "\n",
    "* 1.研究附件一中项目的任务定价规律，分析任务未完成的原因。\n",
    "* 2.为附件一中的项目设计新的任务定价方案，并和原方案进行比较。\n",
    "* 3.实际情况下，多个任务可能因为位置比较集中，导致用户会争相选择，一种考虑是将这些任务联合在一起打包发布。在这种考虑下，如何修改前面的定价模型，对最终的任务完成情况又有什么影响？\n",
    "* 4.对附件三中的新项目给出你的任务定价方案，并评价该方案的实施效果。\n",
    "\n",
    "附件一：已结束项目任务数据 \n",
    "\n",
    "附件二：会员信息数据 \n",
    "\n",
    "附件三：新项目任务数据\n"
   ]
  },
  {
   "cell_type": "markdown",
   "id": "7b8b13d7",
   "metadata": {},
   "source": [
    "## 1.数据预处理"
   ]
  },
  {
   "cell_type": "code",
   "execution_count": 32,
   "id": "8139199e",
   "metadata": {
    "scrolled": true
   },
   "outputs": [
    {
     "data": {
      "text/html": [
       "<div>\n",
       "<style scoped>\n",
       "    .dataframe tbody tr th:only-of-type {\n",
       "        vertical-align: middle;\n",
       "    }\n",
       "\n",
       "    .dataframe tbody tr th {\n",
       "        vertical-align: top;\n",
       "    }\n",
       "\n",
       "    .dataframe thead th {\n",
       "        text-align: right;\n",
       "    }\n",
       "</style>\n",
       "<table border=\"1\" class=\"dataframe\">\n",
       "  <thead>\n",
       "    <tr style=\"text-align: right;\">\n",
       "      <th></th>\n",
       "      <th>任务号码</th>\n",
       "      <th>任务gps 纬度</th>\n",
       "      <th>任务gps经度</th>\n",
       "      <th>任务标价</th>\n",
       "      <th>任务执行情况</th>\n",
       "    </tr>\n",
       "  </thead>\n",
       "  <tbody>\n",
       "    <tr>\n",
       "      <th>0</th>\n",
       "      <td>A0001</td>\n",
       "      <td>22.566142</td>\n",
       "      <td>113.980837</td>\n",
       "      <td>66.0</td>\n",
       "      <td>0</td>\n",
       "    </tr>\n",
       "    <tr>\n",
       "      <th>1</th>\n",
       "      <td>A0002</td>\n",
       "      <td>22.686205</td>\n",
       "      <td>113.940525</td>\n",
       "      <td>65.5</td>\n",
       "      <td>0</td>\n",
       "    </tr>\n",
       "    <tr>\n",
       "      <th>2</th>\n",
       "      <td>A0003</td>\n",
       "      <td>22.576512</td>\n",
       "      <td>113.957198</td>\n",
       "      <td>65.5</td>\n",
       "      <td>1</td>\n",
       "    </tr>\n",
       "    <tr>\n",
       "      <th>3</th>\n",
       "      <td>A0004</td>\n",
       "      <td>22.564841</td>\n",
       "      <td>114.244571</td>\n",
       "      <td>75.0</td>\n",
       "      <td>0</td>\n",
       "    </tr>\n",
       "    <tr>\n",
       "      <th>4</th>\n",
       "      <td>A0005</td>\n",
       "      <td>22.558888</td>\n",
       "      <td>113.950723</td>\n",
       "      <td>65.5</td>\n",
       "      <td>0</td>\n",
       "    </tr>\n",
       "  </tbody>\n",
       "</table>\n",
       "</div>"
      ],
      "text/plain": [
       "    任务号码   任务gps 纬度     任务gps经度  任务标价  任务执行情况\n",
       "0  A0001  22.566142  113.980837  66.0       0\n",
       "1  A0002  22.686205  113.940525  65.5       0\n",
       "2  A0003  22.576512  113.957198  65.5       1\n",
       "3  A0004  22.564841  114.244571  75.0       0\n",
       "4  A0005  22.558888  113.950723  65.5       0"
      ]
     },
     "execution_count": 32,
     "metadata": {},
     "output_type": "execute_result"
    }
   ],
   "source": [
    "import numpy as np\n",
    "import pandas as pd\n",
    "data1 = pd.read_csv('/data/CUMCM2017Problems/B_csv_doc/附件一：已结束项目任务数据.csv')\n",
    "data1.head()"
   ]
  },
  {
   "cell_type": "code",
   "execution_count": 33,
   "id": "06637a4c",
   "metadata": {
    "collapsed": true
   },
   "outputs": [
    {
     "data": {
      "text/html": [
       "<div>\n",
       "<style scoped>\n",
       "    .dataframe tbody tr th:only-of-type {\n",
       "        vertical-align: middle;\n",
       "    }\n",
       "\n",
       "    .dataframe tbody tr th {\n",
       "        vertical-align: top;\n",
       "    }\n",
       "\n",
       "    .dataframe thead th {\n",
       "        text-align: right;\n",
       "    }\n",
       "</style>\n",
       "<table border=\"1\" class=\"dataframe\">\n",
       "  <thead>\n",
       "    <tr style=\"text-align: right;\">\n",
       "      <th></th>\n",
       "      <th>会员编号</th>\n",
       "      <th>会员位置(GPS)</th>\n",
       "      <th>预订任务限额</th>\n",
       "      <th>预订任务开始时间</th>\n",
       "      <th>信誉值</th>\n",
       "    </tr>\n",
       "  </thead>\n",
       "  <tbody>\n",
       "    <tr>\n",
       "      <th>0</th>\n",
       "      <td>B0001</td>\n",
       "      <td>22.947097 113.679983</td>\n",
       "      <td>114</td>\n",
       "      <td>6:30:00</td>\n",
       "      <td>67997.3868</td>\n",
       "    </tr>\n",
       "    <tr>\n",
       "      <th>1</th>\n",
       "      <td>B0002</td>\n",
       "      <td>22.577792 113.966524</td>\n",
       "      <td>163</td>\n",
       "      <td>6:30:00</td>\n",
       "      <td>37926.5416</td>\n",
       "    </tr>\n",
       "    <tr>\n",
       "      <th>2</th>\n",
       "      <td>B0003</td>\n",
       "      <td>23.192458 113.347272</td>\n",
       "      <td>139</td>\n",
       "      <td>6:30:00</td>\n",
       "      <td>27953.0363</td>\n",
       "    </tr>\n",
       "    <tr>\n",
       "      <th>3</th>\n",
       "      <td>B0004</td>\n",
       "      <td>23.255965 113.31875</td>\n",
       "      <td>98</td>\n",
       "      <td>6:30:00</td>\n",
       "      <td>25085.6986</td>\n",
       "    </tr>\n",
       "    <tr>\n",
       "      <th>4</th>\n",
       "      <td>B0005</td>\n",
       "      <td>33.65205 116.97047</td>\n",
       "      <td>66</td>\n",
       "      <td>6:30:00</td>\n",
       "      <td>20919.0667</td>\n",
       "    </tr>\n",
       "  </tbody>\n",
       "</table>\n",
       "</div>"
      ],
      "text/plain": [
       "    会员编号             会员位置(GPS)  预订任务限额 预订任务开始时间         信誉值\n",
       "0  B0001  22.947097 113.679983     114  6:30:00  67997.3868\n",
       "1  B0002  22.577792 113.966524     163  6:30:00  37926.5416\n",
       "2  B0003  23.192458 113.347272     139  6:30:00  27953.0363\n",
       "3  B0004   23.255965 113.31875      98  6:30:00  25085.6986\n",
       "4  B0005    33.65205 116.97047      66  6:30:00  20919.0667"
      ]
     },
     "execution_count": 33,
     "metadata": {},
     "output_type": "execute_result"
    }
   ],
   "source": [
    "data2 = pd.read_csv('/data/CUMCM2017Problems/B_csv_doc/附件二：会员信息数据.csv')\n",
    "data2.head()"
   ]
  },
  {
   "cell_type": "code",
   "execution_count": 34,
   "id": "8256da5c",
   "metadata": {
    "scrolled": true
   },
   "outputs": [
    {
     "data": {
      "text/html": [
       "<div>\n",
       "<style scoped>\n",
       "    .dataframe tbody tr th:only-of-type {\n",
       "        vertical-align: middle;\n",
       "    }\n",
       "\n",
       "    .dataframe tbody tr th {\n",
       "        vertical-align: top;\n",
       "    }\n",
       "\n",
       "    .dataframe thead th {\n",
       "        text-align: right;\n",
       "    }\n",
       "</style>\n",
       "<table border=\"1\" class=\"dataframe\">\n",
       "  <thead>\n",
       "    <tr style=\"text-align: right;\">\n",
       "      <th></th>\n",
       "      <th>任务号码</th>\n",
       "      <th>任务GPS纬度</th>\n",
       "      <th>任务GPS经度</th>\n",
       "    </tr>\n",
       "  </thead>\n",
       "  <tbody>\n",
       "    <tr>\n",
       "      <th>0</th>\n",
       "      <td>C0001</td>\n",
       "      <td>22.730041</td>\n",
       "      <td>114.240880</td>\n",
       "    </tr>\n",
       "    <tr>\n",
       "      <th>1</th>\n",
       "      <td>C0002</td>\n",
       "      <td>22.727043</td>\n",
       "      <td>114.299620</td>\n",
       "    </tr>\n",
       "    <tr>\n",
       "      <th>2</th>\n",
       "      <td>C0003</td>\n",
       "      <td>22.701311</td>\n",
       "      <td>114.233601</td>\n",
       "    </tr>\n",
       "    <tr>\n",
       "      <th>3</th>\n",
       "      <td>C0004</td>\n",
       "      <td>22.732359</td>\n",
       "      <td>114.286667</td>\n",
       "    </tr>\n",
       "    <tr>\n",
       "      <th>4</th>\n",
       "      <td>C0005</td>\n",
       "      <td>22.718391</td>\n",
       "      <td>114.257549</td>\n",
       "    </tr>\n",
       "  </tbody>\n",
       "</table>\n",
       "</div>"
      ],
      "text/plain": [
       "    任务号码    任务GPS纬度     任务GPS经度\n",
       "0  C0001  22.730041  114.240880\n",
       "1  C0002  22.727043  114.299620\n",
       "2  C0003  22.701311  114.233601\n",
       "3  C0004  22.732359  114.286667\n",
       "4  C0005  22.718391  114.257549"
      ]
     },
     "execution_count": 34,
     "metadata": {},
     "output_type": "execute_result"
    }
   ],
   "source": [
    "data3 = pd.read_csv('/data/CUMCM2017Problems/B_csv_doc/附件三：新项目任务数据.csv')\n",
    "data3.head()"
   ]
  },
  {
   "cell_type": "code",
   "execution_count": 35,
   "id": "374c0d33",
   "metadata": {},
   "outputs": [
    {
     "name": "stdout",
     "output_type": "stream",
     "text": [
      "(835, 5) (1877, 5) (2066, 3)\n"
     ]
    }
   ],
   "source": [
    "print(data1.shape,data2.shape,data3.shape)"
   ]
  },
  {
   "cell_type": "code",
   "execution_count": 36,
   "id": "cdd83018",
   "metadata": {},
   "outputs": [
    {
     "name": "stdout",
     "output_type": "stream",
     "text": [
      "列表1缺失值： 任务号码        0\n",
      "任务gps 纬度    0\n",
      "任务gps经度     0\n",
      "任务标价        0\n",
      "任务执行情况      0\n",
      "dtype: int64\n",
      "列表2缺失值： 会员编号         0\n",
      "会员位置(GPS)    0\n",
      "预订任务限额       0\n",
      "预订任务开始时间     0\n",
      "信誉值          0\n",
      "dtype: int64\n",
      "列表3缺失值： 任务号码       0\n",
      "任务GPS纬度    0\n",
      "任务GPS经度    0\n",
      "dtype: int64\n"
     ]
    }
   ],
   "source": [
    "print('列表1缺失值：', data1.isnull().sum())\n",
    "print('列表2缺失值：', data2.isnull().sum())\n",
    "print('列表3缺失值：', data3.isnull().sum())"
   ]
  },
  {
   "cell_type": "markdown",
   "id": "f25e08a9",
   "metadata": {},
   "source": [
    "### 1.1把data2中的会员位置(GPS)分离"
   ]
  },
  {
   "cell_type": "code",
   "execution_count": 37,
   "id": "97ea7243",
   "metadata": {},
   "outputs": [],
   "source": [
    "# data2['会员位置(GPS)'].head()"
   ]
  },
  {
   "cell_type": "code",
   "execution_count": 38,
   "id": "075a58f5",
   "metadata": {},
   "outputs": [],
   "source": [
    "t= []\n",
    "for i in range(len(data2)):\n",
    "    t.append(data2['会员位置(GPS)'][i].split(' '))"
   ]
  },
  {
   "cell_type": "code",
   "execution_count": 39,
   "id": "cfd237a0",
   "metadata": {},
   "outputs": [],
   "source": [
    "m1 = []\n",
    "m2 = []\n",
    "for j in range(len(t)):\n",
    "    m1.append(float(t[j][0]))\n",
    "for j in range(len(t)):\n",
    "    m2.append(float(t[j][1]))"
   ]
  },
  {
   "cell_type": "code",
   "execution_count": 40,
   "id": "6b23086b",
   "metadata": {},
   "outputs": [],
   "source": [
    "data2['会员纬度'] = m1\n",
    "data2['会员经度'] = m2\n",
    "# data2.head()"
   ]
  },
  {
   "cell_type": "code",
   "execution_count": 41,
   "id": "3fe1aa87",
   "metadata": {
    "collapsed": true
   },
   "outputs": [
    {
     "data": {
      "text/html": [
       "<div>\n",
       "<style scoped>\n",
       "    .dataframe tbody tr th:only-of-type {\n",
       "        vertical-align: middle;\n",
       "    }\n",
       "\n",
       "    .dataframe tbody tr th {\n",
       "        vertical-align: top;\n",
       "    }\n",
       "\n",
       "    .dataframe thead th {\n",
       "        text-align: right;\n",
       "    }\n",
       "</style>\n",
       "<table border=\"1\" class=\"dataframe\">\n",
       "  <thead>\n",
       "    <tr style=\"text-align: right;\">\n",
       "      <th></th>\n",
       "      <th>会员编号</th>\n",
       "      <th>会员纬度</th>\n",
       "      <th>会员经度</th>\n",
       "      <th>预订任务限额</th>\n",
       "      <th>预订任务开始时间</th>\n",
       "      <th>信誉值</th>\n",
       "    </tr>\n",
       "  </thead>\n",
       "  <tbody>\n",
       "    <tr>\n",
       "      <th>0</th>\n",
       "      <td>B0001</td>\n",
       "      <td>22.947097</td>\n",
       "      <td>113.679983</td>\n",
       "      <td>114</td>\n",
       "      <td>6:30:00</td>\n",
       "      <td>67997.3868</td>\n",
       "    </tr>\n",
       "    <tr>\n",
       "      <th>1</th>\n",
       "      <td>B0002</td>\n",
       "      <td>22.577792</td>\n",
       "      <td>113.966524</td>\n",
       "      <td>163</td>\n",
       "      <td>6:30:00</td>\n",
       "      <td>37926.5416</td>\n",
       "    </tr>\n",
       "    <tr>\n",
       "      <th>2</th>\n",
       "      <td>B0003</td>\n",
       "      <td>23.192458</td>\n",
       "      <td>113.347272</td>\n",
       "      <td>139</td>\n",
       "      <td>6:30:00</td>\n",
       "      <td>27953.0363</td>\n",
       "    </tr>\n",
       "    <tr>\n",
       "      <th>3</th>\n",
       "      <td>B0004</td>\n",
       "      <td>23.255965</td>\n",
       "      <td>113.318750</td>\n",
       "      <td>98</td>\n",
       "      <td>6:30:00</td>\n",
       "      <td>25085.6986</td>\n",
       "    </tr>\n",
       "    <tr>\n",
       "      <th>4</th>\n",
       "      <td>B0005</td>\n",
       "      <td>33.652050</td>\n",
       "      <td>116.970470</td>\n",
       "      <td>66</td>\n",
       "      <td>6:30:00</td>\n",
       "      <td>20919.0667</td>\n",
       "    </tr>\n",
       "  </tbody>\n",
       "</table>\n",
       "</div>"
      ],
      "text/plain": [
       "    会员编号       会员纬度        会员经度  预订任务限额 预订任务开始时间         信誉值\n",
       "0  B0001  22.947097  113.679983     114  6:30:00  67997.3868\n",
       "1  B0002  22.577792  113.966524     163  6:30:00  37926.5416\n",
       "2  B0003  23.192458  113.347272     139  6:30:00  27953.0363\n",
       "3  B0004  23.255965  113.318750      98  6:30:00  25085.6986\n",
       "4  B0005  33.652050  116.970470      66  6:30:00  20919.0667"
      ]
     },
     "execution_count": 41,
     "metadata": {},
     "output_type": "execute_result"
    }
   ],
   "source": [
    "data2 = data2.reindex(columns = \n",
    "['会员编号','会员纬度','会员经度','预订任务限额','预订任务开始时间','信誉值'])\n",
    "data2.head()"
   ]
  },
  {
   "cell_type": "markdown",
   "id": "f57437c3",
   "metadata": {},
   "source": [
    "### 1.2 data2的时间转换\n",
    "以6：00为开始时间，其他时间减6：00的秒数作为新数据。"
   ]
  },
  {
   "cell_type": "code",
   "execution_count": 42,
   "id": "9cfeeabd",
   "metadata": {},
   "outputs": [],
   "source": [
    "import datetime\n",
    "gap = []\n",
    "for i in range(len(data2)):\n",
    "    dt = datetime.datetime.strptime(data2['预订任务开始时间'][i],'%H:%M:%S')\n",
    "    dt2 = datetime.datetime.strptime('6:00:00','%H:%M:%S') \n",
    "    delta = dt - dt2\n",
    "    gap.append(delta.seconds)\n",
    "gap = np.asarray(gap)\n",
    "data2['预订任务开始时间'] = gap"
   ]
  },
  {
   "cell_type": "code",
   "execution_count": 43,
   "id": "52d203ae",
   "metadata": {
    "scrolled": false
   },
   "outputs": [
    {
     "data": {
      "text/html": [
       "<div>\n",
       "<style scoped>\n",
       "    .dataframe tbody tr th:only-of-type {\n",
       "        vertical-align: middle;\n",
       "    }\n",
       "\n",
       "    .dataframe tbody tr th {\n",
       "        vertical-align: top;\n",
       "    }\n",
       "\n",
       "    .dataframe thead th {\n",
       "        text-align: right;\n",
       "    }\n",
       "</style>\n",
       "<table border=\"1\" class=\"dataframe\">\n",
       "  <thead>\n",
       "    <tr style=\"text-align: right;\">\n",
       "      <th></th>\n",
       "      <th>会员编号</th>\n",
       "      <th>会员纬度</th>\n",
       "      <th>会员经度</th>\n",
       "      <th>预订任务限额</th>\n",
       "      <th>预订任务开始时间</th>\n",
       "      <th>信誉值</th>\n",
       "    </tr>\n",
       "  </thead>\n",
       "  <tbody>\n",
       "    <tr>\n",
       "      <th>0</th>\n",
       "      <td>B0001</td>\n",
       "      <td>22.947097</td>\n",
       "      <td>113.679983</td>\n",
       "      <td>114</td>\n",
       "      <td>1800</td>\n",
       "      <td>67997.3868</td>\n",
       "    </tr>\n",
       "    <tr>\n",
       "      <th>1</th>\n",
       "      <td>B0002</td>\n",
       "      <td>22.577792</td>\n",
       "      <td>113.966524</td>\n",
       "      <td>163</td>\n",
       "      <td>1800</td>\n",
       "      <td>37926.5416</td>\n",
       "    </tr>\n",
       "    <tr>\n",
       "      <th>2</th>\n",
       "      <td>B0003</td>\n",
       "      <td>23.192458</td>\n",
       "      <td>113.347272</td>\n",
       "      <td>139</td>\n",
       "      <td>1800</td>\n",
       "      <td>27953.0363</td>\n",
       "    </tr>\n",
       "    <tr>\n",
       "      <th>3</th>\n",
       "      <td>B0004</td>\n",
       "      <td>23.255965</td>\n",
       "      <td>113.318750</td>\n",
       "      <td>98</td>\n",
       "      <td>1800</td>\n",
       "      <td>25085.6986</td>\n",
       "    </tr>\n",
       "    <tr>\n",
       "      <th>4</th>\n",
       "      <td>B0005</td>\n",
       "      <td>33.652050</td>\n",
       "      <td>116.970470</td>\n",
       "      <td>66</td>\n",
       "      <td>1800</td>\n",
       "      <td>20919.0667</td>\n",
       "    </tr>\n",
       "    <tr>\n",
       "      <th>5</th>\n",
       "      <td>B0006</td>\n",
       "      <td>22.262784</td>\n",
       "      <td>112.797680</td>\n",
       "      <td>72</td>\n",
       "      <td>1800</td>\n",
       "      <td>18237.6295</td>\n",
       "    </tr>\n",
       "    <tr>\n",
       "      <th>6</th>\n",
       "      <td>B0007</td>\n",
       "      <td>29.560903</td>\n",
       "      <td>106.239083</td>\n",
       "      <td>15</td>\n",
       "      <td>1800</td>\n",
       "      <td>15729.3601</td>\n",
       "    </tr>\n",
       "    <tr>\n",
       "      <th>7</th>\n",
       "      <td>B0008</td>\n",
       "      <td>23.143373</td>\n",
       "      <td>113.376315</td>\n",
       "      <td>95</td>\n",
       "      <td>2520</td>\n",
       "      <td>14868.4446</td>\n",
       "    </tr>\n",
       "    <tr>\n",
       "      <th>8</th>\n",
       "      <td>B0009</td>\n",
       "      <td>23.285280</td>\n",
       "      <td>113.651842</td>\n",
       "      <td>110</td>\n",
       "      <td>2160</td>\n",
       "      <td>13556.1555</td>\n",
       "    </tr>\n",
       "    <tr>\n",
       "      <th>9</th>\n",
       "      <td>B0010</td>\n",
       "      <td>23.099259</td>\n",
       "      <td>113.488909</td>\n",
       "      <td>64</td>\n",
       "      <td>2160</td>\n",
       "      <td>13327.9511</td>\n",
       "    </tr>\n",
       "  </tbody>\n",
       "</table>\n",
       "</div>"
      ],
      "text/plain": [
       "    会员编号       会员纬度        会员经度  预订任务限额  预订任务开始时间         信誉值\n",
       "0  B0001  22.947097  113.679983     114      1800  67997.3868\n",
       "1  B0002  22.577792  113.966524     163      1800  37926.5416\n",
       "2  B0003  23.192458  113.347272     139      1800  27953.0363\n",
       "3  B0004  23.255965  113.318750      98      1800  25085.6986\n",
       "4  B0005  33.652050  116.970470      66      1800  20919.0667\n",
       "5  B0006  22.262784  112.797680      72      1800  18237.6295\n",
       "6  B0007  29.560903  106.239083      15      1800  15729.3601\n",
       "7  B0008  23.143373  113.376315      95      2520  14868.4446\n",
       "8  B0009  23.285280  113.651842     110      2160  13556.1555\n",
       "9  B0010  23.099259  113.488909      64      2160  13327.9511"
      ]
     },
     "execution_count": 43,
     "metadata": {},
     "output_type": "execute_result"
    }
   ],
   "source": [
    "data2.head(10)"
   ]
  },
  {
   "cell_type": "markdown",
   "id": "52570d33",
   "metadata": {},
   "source": [
    "### 1.3 会员与任务点的分布散点图"
   ]
  },
  {
   "cell_type": "code",
   "execution_count": 44,
   "id": "ba6cb8b9",
   "metadata": {},
   "outputs": [
    {
     "data": {
      "image/png": "[encoded data removed]",
      "text/plain": [
       "<Figure size 640x480 with 1 Axes>"
      ]
     },
     "metadata": {},
     "output_type": "display_data"
    }
   ],
   "source": [
    "import matplotlib as mpl\n",
    "import matplotlib.pyplot as plt\n",
    "\n",
    "mpl.rcParams['font.family'] = 'SimHei'\n",
    "mpl.rcParams['axes.unicode_minus'] = False \n",
    "\n",
    "data1_0 = data1.loc[data1['任务执行情况'] == 0]\n",
    "data1_1 = data1.loc[data1['任务执行情况'] == 1]\n",
    "\n",
    "plt.scatter(data1_0['任务gps 纬度'], data1_0['任务gps经度'], color='g', label = '任务失败')\n",
    "plt.scatter(data1_1['任务gps 纬度'], data1_1['任务gps经度'], color='y', label = '任务成功')\n",
    "plt.legend()\n",
    "plt.show()"
   ]
  },
  {
   "cell_type": "code",
   "execution_count": 14,
   "id": "3b680548",
   "metadata": {},
   "outputs": [],
   "source": [
    "#plt.scatter(data2['会员纬度'], data2['会员经度'], color = 'g', label = '会员')\n",
    "#plt.legend()\n",
    "#plt.show()"
   ]
  },
  {
   "cell_type": "code",
   "execution_count": 15,
   "id": "4ee7a687",
   "metadata": {},
   "outputs": [],
   "source": [
    "# data2.loc[data2['会员纬度']>60]"
   ]
  },
  {
   "cell_type": "code",
   "execution_count": 45,
   "id": "49656b94",
   "metadata": {},
   "outputs": [],
   "source": [
    "data2.iloc[1174,1] = 23.031824\n",
    "data2.iloc[1174,2] = 113.131483"
   ]
  },
  {
   "cell_type": "code",
   "execution_count": 46,
   "id": "7eba34fe",
   "metadata": {},
   "outputs": [],
   "source": [
    "#plt.scatter(data1['任务gps 纬度'], data1['任务gps经度'], color = 'r',label = '任务')\n",
    "#plt.scatter(data2['会员纬度'], data2['会员经度'], color = 'g', marker = 'x',label = '会员')\n",
    "#plt.legend()\n",
    "#plt.show()"
   ]
  },
  {
   "cell_type": "code",
   "execution_count": 47,
   "id": "0fe1c0d0",
   "metadata": {},
   "outputs": [],
   "source": [
    "# data2.loc[data2['会员纬度']>26]"
   ]
  },
  {
   "cell_type": "code",
   "execution_count": 48,
   "id": "ac445642",
   "metadata": {},
   "outputs": [],
   "source": [
    "data2_1 = data2.drop([4,6,21],axis = 0)"
   ]
  },
  {
   "cell_type": "code",
   "execution_count": 49,
   "id": "f38ed3ce",
   "metadata": {},
   "outputs": [],
   "source": [
    "# data2_1.head(30)"
   ]
  },
  {
   "cell_type": "code",
   "execution_count": 50,
   "id": "f325a1bc",
   "metadata": {},
   "outputs": [],
   "source": [
    "#plt.scatter(data2_1['会员纬度'], data2_1['会员经度'], color = 'g', marker = 'x',label = '会员')\n",
    "#plt.scatter(data1['任务gps 纬度'], data1['任务gps经度'], color = 'r',marker = '+',label = '任务')\n",
    "#plt.legend()\n",
    "#plt.show()"
   ]
  },
  {
   "cell_type": "code",
   "execution_count": 51,
   "id": "7981f1b3",
   "metadata": {},
   "outputs": [],
   "source": [
    "# data2.loc[data2['会员纬度']<22]"
   ]
  },
  {
   "cell_type": "code",
   "execution_count": 52,
   "id": "b7c8040d",
   "metadata": {},
   "outputs": [],
   "source": [
    "data2_1.drop([38,47,81,471,1726],axis = 0,inplace = True)"
   ]
  },
  {
   "cell_type": "code",
   "execution_count": 53,
   "id": "93f7f0d8",
   "metadata": {},
   "outputs": [],
   "source": [
    "# data2_1.loc[data2_1['会员纬度']>24]"
   ]
  },
  {
   "cell_type": "code",
   "execution_count": 54,
   "id": "1133b4ff",
   "metadata": {},
   "outputs": [],
   "source": [
    "data2_1.drop([135,1707],axis = 0,inplace = True)"
   ]
  },
  {
   "cell_type": "code",
   "execution_count": 55,
   "id": "02c47833",
   "metadata": {},
   "outputs": [],
   "source": [
    "# data2_1.shape"
   ]
  },
  {
   "cell_type": "code",
   "execution_count": 56,
   "id": "e8d13e5b",
   "metadata": {},
   "outputs": [
    {
     "data": {
      "image/png": "[encoded data removed]",
      "text/plain": [
       "<Figure size 640x480 with 1 Axes>"
      ]
     },
     "metadata": {},
     "output_type": "display_data"
    }
   ],
   "source": [
    "plt.scatter(data2_1['会员纬度'], data2_1['会员经度'], color = 'r', marker = '1',label = '会员')\n",
    "plt.scatter(data1_0['任务gps 纬度'], data1_0['任务gps经度'], color='g', marker = '.',label = '任务失败')\n",
    "plt.scatter(data1_1['任务gps 纬度'], data1_1['任务gps经度'], color='y', marker ='.', label ='任务成功')\n",
    "plt.legend()\n",
    "plt.show()"
   ]
  },
  {
   "cell_type": "markdown",
   "id": "2f529147",
   "metadata": {},
   "source": [
    "## 2.建模思路\n",
    "**一些简单的推理:**\n",
    "* 从题目可以知道会员的信誉值会正比的影响预订任务限额和预订任务开始时间。一般来说，信誉值越高，预定任务限额越高，任务开始时间越早，但从数据上看显然并不是绝对的。\n",
    "* 从图可以看到，任务是否成功显然不和会员的密度有关，因为会员聚集的地方也有成功/失败的例子。\n",
    "* 从图可以看到，任务成功的原因可能与会员的信誉值有关，进而跟会员的任务分配额度，任务开始时间有关。\n",
    "* 从而我们假设：一个任务点附近的会员的信誉值越高（会员的任务分配额度越高，任务开始时间越早），这个会员离任务点越近，则任务成功率越高。\n",
    "\n",
    "\n",
    "任务点的经纬度设为$(a_i,b_i),i = 1,\\cdots,n$，任务定价为$p_i$，任务成功与否设为$s_i$。会员经纬度设为$(x_j,y_j),j = 1,\\cdots,m$，预定任务配额$m_j$，开始时间$t_j$，信誉值$c_j$.\n",
    "\n",
    "### 问题1：类似k近邻的建模算法：\n",
    "每一个任务点x周围选取k个距离最近的会员，假设距离从小到大分别为$dis_1,\\cdots,dis_k$，距离倒数为$Dis_{ij} = 1/dis_{ij}$，注意这里的坐标是经纬度，所以要用经纬度计算距离的公式。\n",
    "\n",
    "希望实现：距离越近，权重越大。\n",
    "\n",
    "这k个会员的预定任务配额$m_j$，开始时间$t_j$，信誉值$c_j$，$j = 1,\\cdots , k$。\n",
    "\n",
    "构建3个量:\n",
    "* 任务点加权预订任务配额 $ M_i = \\frac{Dis_{1}}{(Dis_{1}+\\cdots+dis_k)} * m_1 + \\frac{Dis_{2}}{(Dis_{1}+\\cdots+Dis_k)} * m_2 + \\cdots + \\frac{Dis_{k}}{(Dis_{k}+\\cdots+Dis_k)} * m_k$\n",
    "* 任务点加权会员预订开始时间 $ C_i = \\frac{Dis_{1}}{(Dis_{1}+\\cdots+dis_k)} * c_1 + \\frac{Dis_{2}}{(Dis_{1}+\\cdots+Dis_k)} * c_2 + \\cdots + \\frac{Dis_{k}}{(Dis_{k}+\\cdots+Dis_k)} * c_k$\n",
    "* 任务点加权会员信誉值 $ T_i = \\frac{Dis_{1}}{(Dis_{1}+\\cdots+dis_k)} * t_1 + \\frac{Dis_{2}}{(Dis_{1}+\\cdots+Dis_k)} * t_2 + \\cdots + \\frac{Dis_{k}}{(Dis_{k}+\\cdots+Dis_k)} * t_k$\n",
    "\n",
    "所以特征有**任务点加权预订任务配额**，**任务点加权会员预订开始时间**，**任务点加权会员信誉值**，**任务标价**，而**任务执行情况**作为标签集。整个问题转化为分类问题。\n",
    "\n",
    "### 问题2：定价问题\n",
    "类似问题1的建模，但是是以定价为标签集的回归问题。\n",
    "\n",
    "### 问题3：打包问题\n",
    "选定一定的半径长度，选定一些任务点作为中心，半径内的任务全部加权打包起来，再计算成本。"
   ]
  },
  {
   "cell_type": "code",
   "execution_count": null,
   "id": "dbbcd00b",
   "metadata": {},
   "outputs": [],
   "source": []
  }
 ],
 "metadata": {
  "kernelspec": {
   "display_name": "py3.10",
   "language": "python",
   "name": "py3.10"
  },
  "language_info": {
   "codemirror_mode": {
    "name": "ipython",
    "version": 3
   },
   "file_extension": ".py",
   "mimetype": "text/x-python",
   "name": "python",
   "nbconvert_exporter": "python",
   "pygments_lexer": "ipython3",
   "version": "3.10.10"
  },
  "nbTranslate": {
   "displayLangs": [
    "zh-cn"
   ],
   "hotkey": "alt-t",
   "langInMainMenu": true,
   "sourceLang": "zh-cn",
   "targetLang": "zh-cn",
   "useGoogleTranslate": true
  }
 },
 "nbformat": 4,
 "nbformat_minor": 5
}
